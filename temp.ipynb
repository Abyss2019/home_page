{
 "cells": [
  {
   "cell_type": "markdown",
   "id": "2ee94068",
   "metadata": {},
   "source": [
    "笑雨，这个是放到网页上的文字，我想附件还是不放比较好，我们还是每次把code放到zenodo获得一个doi，在vrocklab网站上放上doi就好，这样我们也容易操作"
   ]
  }
 ],
 "metadata": {
  "language_info": {
   "name": "python"
  }
 },
 "nbformat": 4,
 "nbformat_minor": 5
}
